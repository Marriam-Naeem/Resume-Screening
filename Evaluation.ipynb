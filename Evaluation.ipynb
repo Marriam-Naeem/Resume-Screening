{
 "cells": [
  {
   "cell_type": "code",
   "execution_count": 1,
   "metadata": {},
   "outputs": [
    {
     "name": "stderr",
     "output_type": "stream",
     "text": [
      "c:\\Users\\ghio_\\anaconda3\\envs\\llm\\lib\\site-packages\\tqdm\\auto.py:21: TqdmWarning: IProgress not found. Please update jupyter and ipywidgets. See https://ipywidgets.readthedocs.io/en/stable/user_install.html\n",
      "  from .autonotebook import tqdm as notebook_tqdm\n",
      "c:\\Users\\ghio_\\anaconda3\\envs\\llm\\lib\\site-packages\\ragas\\prompt\\base.py:9: LangChainDeprecationWarning: As of langchain-core 0.3.0, LangChain uses pydantic v2 internally. The langchain_core.pydantic_v1 module was a compatibility shim for pydantic v1, and should no longer be used. Please update the code to import from Pydantic directly.\n",
      "\n",
      "For example, replace imports like: `from langchain_core.pydantic_v1 import BaseModel`\n",
      "with: `from pydantic import BaseModel`\n",
      "or the v1 compatibility namespace if you are working in a code base that has not been fully upgraded to pydantic 2 yet. \tfrom pydantic.v1 import BaseModel\n",
      "\n",
      "  from ragas.llms.prompt import PromptValue\n",
      "c:\\Users\\ghio_\\Desktop\\Semester 7\\Deep Learning\\Resume_Screening\\project\\resume_screening.py:213: LangChainDeprecationWarning: The class `Chroma` was deprecated in LangChain 0.2.9 and will be removed in 1.0. An updated version of the class exists in the :class:`~langchain-chroma package and should be used instead. To use it run `pip install -U :class:`~langchain-chroma` and import as `from :class:`~langchain_chroma import Chroma``.\n",
      "  vectordb = Chroma(persist_directory=\"vector_store\",\n"
     ]
    },
    {
     "name": "stdout",
     "output_type": "stream",
     "text": [
      "{'question': ['Versatile Information Technology Professional with extensive experience in IT operations, team leadership, and strategic implementation of technology solutions. Skilled in cloud computing, cybersecurity frameworks, and IT governance. Proficient in driving digital transformation, managing budgets, and ensuring compliance with industry standards. Strong expertise in data analytics, artificial intelligence integration, and DevOps practices. Known for innovative problem-solving, cross-functional collaboration, and a focus on business\\xa0continuity.'], 'answer': ['Here is the Resume that Best Matches the Job Description that you have provided:\\n\\n**Best Matching Resume:**\\n\\n* **Candidate\\'s Name:**  The provided text does not contain the candidate\\'s name for any of the resumes.\\n* **Index of Resume:** 2\\n* **Experience:** Extensive background in Information Technology Management.  Experience in planning, implementing, and evaluating systems, infrastructure, and staffing for complex initiatives. Overseeing and participating in the installation, configuration, maintenance, and upgrade of networks, hardware, servers, and peripherals.\\n* **Education:** Masters of Science degree (Specific degree not mentioned).\\n* **Skills:** Network Engineering, Helpdesk Administration, Software Licensing, Disaster Recovery, Backup/Restore Operations/Project Management.\\n* **Explanation:** This resume best matches the job description because it explicitly mentions extensive experience in IT management, which aligns with the requirement of \"extensive experience in IT operations, team leadership, and strategic implementation of technology solutions.\"  The mention of planning, implementing, and evaluating systems and infrastructure directly addresses the need for strategic implementation.  While it doesn\\'t list all the specific skills (cloud computing, cybersecurity, AI), the broad experience in IT management suggests a higher likelihood of possessing these skills compared to the other candidates.\\n\\n\\n**Ranking of Other Resumes:**\\n\\n1. **Index 4:** This resume mentions experience as an IT Manager, focusing on operations management, project tracking, and performance criteria tracking. However, it lacks the breadth of experience and the advanced skills (data analytics, AI, DevOps) mentioned in the job description.  It also focuses more on team management and less on the strategic technological aspects.\\n\\n2. **Index 1:** This resume describes an Information Technology Technician with skills in troubleshooting and server management.  It lacks the managerial and strategic elements required by the job description.  The focus is on technical skills rather than leadership and strategic planning.\\n\\n3. **Index 5:** This resume highlights troubleshooting and management skills in hardware and software, along with some programming and design experience.  However, it lacks the managerial experience and strategic focus needed for the position.  The skills listed are more technical and less aligned with the leadership and strategic aspects of the job description.\\n'], 'contexts': [Document(metadata={'row': 0, 'source': '1'}, page_content='index: 1\\ntext: INFORMATION TECHNOLOGY TECHNICIAN I\\nSummary\\nVersatile Systems Administrator possessing superior troubleshooting skills for networking issues, end user problems, and network security.\\nExperienced in server management, systems analysis, and offering in-depth understanding of IT infrastructure areas. Detail-oriented, independent,\\nand focused on taking a systematic approach to solving complex problems. Demonstrated exceptional technical knowledge and skills while\\nworking with various teams to achieve shared goals and objectives.\\nHighlights\\nActive Directory\\nGroup Policy Objects\\nPowerShell and VBScript\\nMicrosoft Exchange\\nVMWare experience\\nNew technology and product research\\nOffice 365 and Azure\\nStorage management\\nEnterprise backup management\\nDisaster recovery\\nExperience\\nInformation Technology Te'), Document(metadata={'row': 27, 'source': '4'}, page_content='index: 4\\ntext: INFORMATION TECHNOLOGY MANAGER\\nSummary\\nDedicated \\nIT Manager\\n \\nwell-versed in analyzing and mitigating risk and finding cost-effective solutions. Excels at boosting performance and\\nproductivity by establishing realistic goals and enforcing deadlines.\\nHighlights\\nOperations management\\nProject trackingÃ‚ \\nPerformance criteria tracking\\nWaterfall framework\\nScrum methodology\\nEnterprise platforms\\nSalary structure/compensation analysis\\nCalm under pressure\\nCompensation/benefits administration\\nStaff development\\nClient communication\\nExperience\\nInformation Technology Manager\\n \\n, \\n03/2013\\n \\nto \\nCurrent\\n \\nCompany Name\\n \\nÃ¯Â¼â€‹ \\nCity\\n \\n, \\nState\\nManaged a four-person local IT team, allocating resources to ongoing projects and enforcing deadlines.\\nDrove business KPIs through rapid iteration of customer-facing'), Document(metadata={'row': 34, 'source': '5'}, page_content='index: 5\\ntext: IT MANAGEMENT\\nCareer Overview\\nDetail-oriented professional with extensive Information Technology experience in hardware and software troubleshooting/management. With\\nadditional experience in networking, task automation, server technologies, digital graphic design, client + server side programming technologies and\\npopular industry software packages including Microsoft Office and Adobe Creative Suite.\\nQualifications\\nEducation and certificates \\nTroubleshooting q \\nCompTIA A+ certified (2012) \\nq \\nAdvanced troubleshooting q \\nCompTIA Net+ certification class \\nq\\nVirus and spyware removal q \\nMCSA certification class \\nq \\nComputer diagnostics and repair q \\nWeb Development I + II class \\nq \\nGaming console\\nrepair and q \\nDigital media manipulation class \\nmodification q \\nJava programming class \\nq \\nMobile'), Document(metadata={'row': 11, 'source': '2'}, page_content='index: 2\\ntext: INFORMATION TECHNOLOGY MANAGER\\nProfessional Summary\\nPossesses an extensive background in Information Technology Management, along with a Masters of Science degree and multiple certifications.\\nExcels in planning, implementing, and evaluating the systems, infrastructure, and staffing necessary to execute complex initiatives and meet\\ndeadlines in dynamic, fast-paced environments; adept at overseeing and participating in the installation, configuration, maintenance, and upgrade of\\nnetworks, hardware, servers, and peripherals. \\nDetail-oriented and decisive; applies communication and leadership skills to interface effectively with\\nall levels of an organization. \\nExpertise spans: \\nNetwork Engineering, Helpdesk Administration, Software Licensing, Disaster Recovery,\\nBackup/Restore \\nOperations/Proje'), [...]], 'ground_truths': [[\"Here is the Resume that Best Matches the Job Description that you have provided: Candidate's Name: (Unavailable in dataset; associated with index 2) Index of the Resume: 2 Experience, Education, Skills, and Relevant Information: Experience: Information Technology Manager with professional accomplishments in managing IT teams and strategic projects. Skills: Likely includes IT operations and team management (specifics unavailable in the raw text). Education: Details not explicit in the text. File Name: data.csv Why this resume is the best match: The candidate's profile matches one keyword in the job description and highlights relevant IT leadership and managerial roles, although details are sparse. Ranking of Remaining Resumes: Index 5 Score: 1 (Equal to Index 2, but with less specificity to IT leadership roles). Why it's not the best match: While it mentions IT management and a career overview, it lacks explicit mention of strategic implementation or advanced skills like cloud computing or AI. Indexes 1, 3, 4 Score: 0 Why they are less relevant: Index 1: Focuses on an IT Technician role, not aligned with the seniority or strategic aspects of the job description. Index 3: Mentions RF Systems Engineering, unrelated to the IT scope of the job description. Index 4: Repeats the title of IT Manager but lacks content aligning with the required skills and experiences.\"]], 'reference': [\"Here is the Resume that Best Matches the Job Description that you have provided: Candidate's Name: (Unavailable in dataset; associated with index 2) Index of the Resume: 2 Experience, Education, Skills, and Relevant Information: Experience: Information Technology Manager with professional accomplishments in managing IT teams and strategic projects. Skills: Likely includes IT operations and team management (specifics unavailable in the raw text). Education: Details not explicit in the text. File Name: data.csv Why this resume is the best match: The candidate's profile matches one keyword in the job description and highlights relevant IT leadership and managerial roles, although details are sparse. Ranking of Remaining Resumes: Index 5 Score: 1 (Equal to Index 2, but with less specificity to IT leadership roles). Why it's not the best match: While it mentions IT management and a career overview, it lacks explicit mention of strategic implementation or advanced skills like cloud computing or AI. Indexes 1, 3, 4 Score: 0 Why they are less relevant: Index 1: Focuses on an IT Technician role, not aligned with the seniority or strategic aspects of the job description. Index 3: Mentions RF Systems Engineering, unrelated to the IT scope of the job description. Index 4: Repeats the title of IT Manager but lacks content aligning with the required skills and experiences.\"]}\n"
     ]
    }
   ],
   "source": [
    "from datasets import Dataset\n",
    "from dotenv import load_dotenv\n",
    "from ragas import evaluate\n",
    "import os \n",
    "from resume_screening import generate_response, generate_answer,get_relevant_docs_basic,get_relevant_docs_with_BM25,get_relevant_docs_with_multi_query,get_relevant_docs_with_ensemble,get_relevant_docs_RAGFusion\n",
    "\n",
    "\n",
    "\n",
    "\n",
    "load_dotenv()\n",
    "os.getenv(\"OPENAI_API_KEY\")\n",
    "\n",
    "retriever_type = \"Basic Simliarity Search\"\n",
    "\n",
    "questions = [\n",
    "    \"Versatile Information Technology Professional with extensive experience in IT operations, team leadership, and strategic implementation of technology solutions. Skilled in cloud computing, cybersecurity frameworks, and IT governance. Proficient in driving digital transformation, managing budgets, and ensuring compliance with industry standards. Strong expertise in data analytics, artificial intelligence integration, and DevOps practices. Known for innovative problem-solving, cross-functional collaboration, and a focus on business continuity.\"]\n",
    "\n",
    "\n",
    "ground_truths = [\n",
    "    [\"Here is the Resume that Best Matches the Job Description that you have provided: Candidate's Name: (Unavailable in dataset; associated with index 2) Index of the Resume: 2 Experience, Education, Skills, and Relevant Information: Experience: Information Technology Manager with professional accomplishments in managing IT teams and strategic projects. Skills: Likely includes IT operations and team management (specifics unavailable in the raw text). Education: Details not explicit in the text. File Name: data.csv Why this resume is the best match: The candidate's profile matches one keyword in the job description and highlights relevant IT leadership and managerial roles, although details are sparse. Ranking of Remaining Resumes: Index 5 Score: 1 (Equal to Index 2, but with less specificity to IT leadership roles). Why it's not the best match: While it mentions IT management and a career overview, it lacks explicit mention of strategic implementation or advanced skills like cloud computing or AI. Indexes 1, 3, 4 Score: 0 Why they are less relevant: Index 1: Focuses on an IT Technician role, not aligned with the seniority or strategic aspects of the job description. Index 3: Mentions RF Systems Engineering, unrelated to the IT scope of the job description. Index 4: Repeats the title of IT Manager but lacks content aligning with the required skills and experiences.\"]\n",
    "]\n",
    "\n",
    "# Simulate an empty list to hold answers and contexts\n",
    "answers = []\n",
    "context = []\n",
    "references = []\n",
    "\n",
    "# Simulate response\n",
    "for query in questions:\n",
    "    context, response = generate_answer(query,retriever_type)\n",
    "    answers.append(response)\n",
    "    context.append(context)\n",
    "    references.append(ground_truths[questions.index(query)][0])\n",
    "   \n",
    "\n",
    "# Convert to dictionary format for creating the dataset\n",
    "data = {\n",
    "    \"question\": questions,\n",
    "    \"answer\": answers,  # Ensure answers are strings\n",
    "    \"contexts\": context,\n",
    "    \"ground_truths\": ground_truths,\n",
    "    \"reference\": references\n",
    "}\n",
    "\n",
    "print(data)\n",
    "\n",
    "\n",
    "#display rows\n",
    "\n",
    "\n",
    "# from ragas import evaluate\n",
    "# from ragas.metrics import (\n",
    "#     answer_relevancy,\n",
    "#     faithfulness,\n",
    "#     context_recall,\n",
    "#     context_precision,\n",
    "#     answer_correctness,\n",
    "#     answer_similarity\n",
    "# )\n",
    "\n",
    "# result = evaluate(\n",
    "#     dataset = dataset,\n",
    "#     metrics=[\n",
    "#         context_precision,\n",
    "#         context_recall,\n",
    "#         faithfulness,\n",
    "#         answer_relevancy,\n",
    "#         answer_correctness,\n",
    "#         answer_similarity\n",
    "#     ],\n",
    "# )\n",
    "\n",
    "# df = result.to_pandas()\n",
    "\n",
    "# df.to_csv(\"evaluation_result.csv\", index=False)\n",
    "\n"
   ]
  },
  {
   "cell_type": "code",
   "execution_count": 2,
   "metadata": {},
   "outputs": [
    {
     "ename": "",
     "evalue": "",
     "output_type": "error",
     "traceback": [
      "\u001b[1;31mThe Kernel crashed while executing code in the current cell or a previous cell. \n",
      "\u001b[1;31mPlease review the code in the cell(s) to identify a possible cause of the failure. \n",
      "\u001b[1;31mClick <a href='https://aka.ms/vscodeJupyterKernelCrash'>here</a> for more info. \n",
      "\u001b[1;31mView Jupyter <a href='command:jupyter.viewOutput'>log</a> for further details."
     ]
    }
   ],
   "source": [
    "# Convert the dictionary into a Dataset object\n",
    "dataset = Dataset.from_dict(data)\n"
   ]
  }
 ],
 "metadata": {
  "kernelspec": {
   "display_name": "llm",
   "language": "python",
   "name": "python3"
  },
  "language_info": {
   "codemirror_mode": {
    "name": "ipython",
    "version": 3
   },
   "file_extension": ".py",
   "mimetype": "text/x-python",
   "name": "python",
   "nbconvert_exporter": "python",
   "pygments_lexer": "ipython3",
   "version": "3.9.20"
  }
 },
 "nbformat": 4,
 "nbformat_minor": 2
}
